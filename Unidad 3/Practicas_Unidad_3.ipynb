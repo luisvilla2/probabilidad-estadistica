{
  "nbformat": 4,
  "nbformat_minor": 0,
  "metadata": {
    "colab": {
      "provenance": [],
      "authorship_tag": "ABX9TyOyF2mjxlydfBfRmVjrX+vd",
      "include_colab_link": true
    },
    "kernelspec": {
      "name": "python3",
      "display_name": "Python 3"
    },
    "language_info": {
      "name": "python"
    }
  },
  "cells": [
    {
      "cell_type": "markdown",
      "metadata": {
        "id": "view-in-github",
        "colab_type": "text"
      },
      "source": [
        "<a href=\"https://colab.research.google.com/github/luisvilla2/probabilidad-estadistica/blob/main/Unidad%203/Practicas_Unidad_3.ipynb\" target=\"_parent\"><img src=\"https://colab.research.google.com/assets/colab-badge.svg\" alt=\"Open In Colab\"/></a>"
      ]
    },
    {
      "cell_type": "markdown",
      "source": [
        "![tecno.png](data:image/png;base64,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)\n",
        "## UNIDAD 3\n",
        "## Probabilidad y estadistica\n",
        "Luis Alberto Villalobos Anaya\n",
        "\n",
        "Dr. Jose Gabriel Rivas Rodriguez\n",
        "Grupo 2Z"
      ],
      "metadata": {
        "id": "Y2EfLs237YiH"
      }
    },
    {
      "cell_type": "code",
      "execution_count": 1,
      "metadata": {
        "id": "lEDDzLOE3qr9"
      },
      "outputs": [],
      "source": [
        "import numpy as np\n",
        "from scipy.stats import binom"
      ]
    },
    {
      "cell_type": "markdown",
      "source": [
        "1-TORNEO DE POKER"
      ],
      "metadata": {
        "id": "QVP6BrGg6TeT"
      }
    },
    {
      "cell_type": "code",
      "source": [
        "# Posibles ganancias o pérdidas\n",
        "X = np.array([490000, -10000])\n",
        "\n",
        "# Probabilidades respectivas\n",
        "P = np.array([0.005, 0.995])\n",
        "\n",
        "# Cálculo del valor esperado\n",
        "valor_esperado = np.sum(X * P)\n",
        "\n",
        "print(f\"El valor esperado es: {valor_esperado} mil dólares\")"
      ],
      "metadata": {
        "colab": {
          "base_uri": "https://localhost:8080/"
        },
        "id": "Nm8aPTGI33oW",
        "outputId": "2543c671-0d1c-4271-ca0e-c2bc56f68528"
      },
      "execution_count": 2,
      "outputs": [
        {
          "output_type": "stream",
          "name": "stdout",
          "text": [
            "El valor esperado es: -7500.0 mil dólares\n"
          ]
        }
      ]
    },
    {
      "cell_type": "markdown",
      "source": [
        "2-VIAJE DE ALICE"
      ],
      "metadata": {
        "id": "AoVQtBvZ6bVd"
      }
    },
    {
      "cell_type": "code",
      "source": [
        "# Posibles costos del viaje\n",
        "X = np.array([5, 305])\n",
        "\n",
        "# Probabilidades respectivas\n",
        "P = np.array([0.95, 0.05])\n",
        "\n",
        "# Cálculo del valor esperado\n",
        "costo_esperado = np.sum(X * P)\n",
        "\n",
        "print(f\"El costo total esperado del viaje es: {costo_esperado} euros\")\n",
        "\n",
        "#El costo total esperado del viaje en tren de Alice es 20 euros.\n",
        "#Aunque el boleto costó solo 5 euros, el riesgo de la multa aumenta el costo promedio del viaje."
      ],
      "metadata": {
        "colab": {
          "base_uri": "https://localhost:8080/"
        },
        "id": "HuXLuf4g38Ej",
        "outputId": "4295d8e6-76b1-4b67-dc25-ceb92d8dfcb3"
      },
      "execution_count": 3,
      "outputs": [
        {
          "output_type": "stream",
          "name": "stdout",
          "text": [
            "El costo total esperado del viaje es: 20.0 euros\n"
          ]
        }
      ]
    },
    {
      "cell_type": "markdown",
      "source": [
        "3-DADO JUSTO DE 6 CARAS"
      ],
      "metadata": {
        "id": "mkw76n3X6jn2"
      }
    },
    {
      "cell_type": "code",
      "source": [
        "# Posibles valores del dado\n",
        "valores = np.array([1, 2, 3, 4, 5, 6])\n",
        "\n",
        "# Probabilidades (todas iguales en un dado justo)\n",
        "probabilidades = np.full(6, 1/6)\n",
        "\n",
        "# Calculamos el valor esperado\n",
        "valor_esperado = np.sum(valores * probabilidades)\n",
        "\n",
        "# Mostramos el resultado\n",
        "print(\"El valor esperado del dado es:\", valor_esperado)"
      ],
      "metadata": {
        "colab": {
          "base_uri": "https://localhost:8080/"
        },
        "id": "hl3iGxlc4AO6",
        "outputId": "cbc07536-3920-488e-cdb7-eba33b0edd76"
      },
      "execution_count": 4,
      "outputs": [
        {
          "output_type": "stream",
          "name": "stdout",
          "text": [
            "El valor esperado del dado es: 3.5\n"
          ]
        }
      ]
    },
    {
      "cell_type": "code",
      "source": [
        "# 1\n",
        "print(\"¿El número 4 tiene más probabilidad que el 6?\", 1/6 > 1/6)\n",
        "\n",
        "# 2\n",
        "print(\"¿3.5 puede ser un resultado?\", 3.5 in valores)\n",
        "\n",
        "# 3\n",
        "simulaciones = np.random.choice(valores, size=100000)\n",
        "promedio = np.mean(simulaciones)\n",
        "print(\"Promedio de muchos lanzamientos:\", promedio)\n",
        ""
      ],
      "metadata": {
        "colab": {
          "base_uri": "https://localhost:8080/"
        },
        "id": "MTvDtnx64C_X",
        "outputId": "e1a11128-fa57-46e3-db34-50f13b1e965c"
      },
      "execution_count": 5,
      "outputs": [
        {
          "output_type": "stream",
          "name": "stdout",
          "text": [
            "¿El número 4 tiene más probabilidad que el 6? False\n",
            "¿3.5 puede ser un resultado? False\n",
            "Promedio de muchos lanzamientos: 3.50065\n"
          ]
        }
      ]
    },
    {
      "cell_type": "markdown",
      "source": [
        "4-APUESTAS DE IVY"
      ],
      "metadata": {
        "id": "ghvU8Fgy7SzH"
      }
    },
    {
      "cell_type": "code",
      "source": [
        "# Definimos los resultados\n",
        "ganancia_dragones = 10\n",
        "perdida_tortugas = -11\n",
        "prob_ganar = 0.5\n",
        "prob_perder = 0.5\n",
        "\n",
        "# Calculamos el valor esperado\n",
        "valor_esperado = (ganancia_dragones * prob_ganar) + (perdida_tortugas * prob_perder)\n",
        "\n",
        "# Mostramos el resultado\n",
        "print(\"El valor esperado de la apuesta es:\", valor_esperado, \"Dólares\")"
      ],
      "metadata": {
        "colab": {
          "base_uri": "https://localhost:8080/"
        },
        "id": "oJIg-RiT4Gk7",
        "outputId": "358dab11-90cb-4745-a4d0-cb9a0cfa0423"
      },
      "execution_count": 6,
      "outputs": [
        {
          "output_type": "stream",
          "name": "stdout",
          "text": [
            "El valor esperado de la apuesta es: -0.5 Dólares\n"
          ]
        }
      ]
    }
  ]
}